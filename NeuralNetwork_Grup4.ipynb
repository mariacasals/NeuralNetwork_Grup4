{
 "cells": [
  {
   "cell_type": "markdown",
   "metadata": {},
   "source": [
    "**NEURAL NETWORKS**\n",
    "\n",
    "GRUP 4: Arnau Alabau, Sergi Ubach, María Casals\n"
   ]
  },
  {
   "cell_type": "code",
   "execution_count": 1,
   "metadata": {},
   "outputs": [],
   "source": [
    "# Import matplotlib, numpy and math\n",
    "import matplotlib.pyplot as plt\n",
    "import numpy as np\n",
    "import math\n",
    "import random"
   ]
  },
  {
   "cell_type": "code",
   "execution_count": 2,
   "metadata": {},
   "outputs": [],
   "source": [
    "#Codi per treure la sigmoide\n",
    "\n",
    "def sigmoide(aux):\n",
    "    x = np.linspace(-100, 100, 200)\n",
    "    z = 1/(1 + np.exp(-(aux - 0)))\n",
    "\n",
    "    #plt.plot(x, z)\n",
    "    #plt.xlabel(\"x\")\n",
    "    #plt.ylabel(\"Sigmoid(X)\")\n",
    "\n",
    "    #plt.show()\n",
    "    #print(\"Z\")\n",
    "    #print(z)\n",
    "    return z"
   ]
  },
  {
   "cell_type": "markdown",
   "metadata": {},
   "source": [
    "### Class Neuron\n",
    "\n",
    "Aquesta classe preten definir una neurona de la xarxa neuronal\n",
    "\n",
    "*Atributs:*\n",
    "- nInputs: numero d'entrades que te la neurona\n",
    "- output: valor de sortida\n",
    "- bias: \"offset\" necessari\n",
    "- weight: array ambs els pesos que determinen cada entrada\n",
    "\n",
    "\n",
    "*Funcions:*\n",
    "- calcula: ha de fer el calcul (inputs*weight + bias ) *sigmoide \n",
    "    - DUBTE: No se com es la operacio en concret\n"
   ]
  },
  {
   "cell_type": "code",
   "execution_count": 3,
   "metadata": {},
   "outputs": [],
   "source": [
    "class Neuron:\n",
    "    \n",
    "    def __init__(self, nInputs):\n",
    "        \n",
    "        #Atributs\n",
    "        self.nInputs = 0\n",
    "        self.output = 0\n",
    "        self.bias = 0\n",
    "        self.weight = []\n",
    "        \n",
    "        self.nInputs = nInputs\n",
    "          \n",
    "        self.bias = random.uniform(-self.nInputs, self.nInputs)\n",
    "\n",
    "        for i in range (self.nInputs):\n",
    "            self.weight.append(random.random())\n",
    "            \n",
    "    def calcula(self, inputs):\n",
    "        #print('INPUTS \\n')\n",
    "        #print(inputs)\n",
    "        #print('WEIGHT \\n')\n",
    "        #print(self.weight)\n",
    "        #print('BIAS \\n')\n",
    "        #print(self.bias)\n",
    "        \n",
    "        aux = sum(np.multiply(inputs,self.weight)) + self.bias\n",
    "        output = sigmoide(aux)\n",
    "        \n",
    "        return output\n",
    "            "
   ]
  },
  {
   "cell_type": "markdown",
   "metadata": {},
   "source": [
    "### Class Layer\n",
    "\n",
    "Aquesta classe preten definir una capa de la xarxa neuronal\n",
    "\n",
    "*Atributs:*\n",
    "- nNeurons: numero de neurones que te la capa, coincideix amb el numero de outputs\n",
    "- nInputs: numero d'entrades que te la capa\n",
    "\n",
    "\n",
    "*Funcions:*\n",
    "- calcula: ha de recorrer cada una de les neurones, passarli el vector d'entrada i obtenir la sortida de cada una\n"
   ]
  },
  {
   "cell_type": "code",
   "execution_count": 4,
   "metadata": {},
   "outputs": [],
   "source": [
    "class Layer:\n",
    "    \n",
    "    def __init__(self, nNeurons, nInputs):\n",
    "        \n",
    "        #Atributs\n",
    "        self.nNeurons = 0\n",
    "        self.nInputs = 0 #num de neurones de la capa anterior, si es la 1a, es numInputs\n",
    "        self.neurons = []\n",
    "        #el num de neurones ve determinat pel numero de sortides, nOuputs = nNeurons\n",
    "        \n",
    "        self.nInputs = nInputs\n",
    "        self.nNeurons = nNeurons\n",
    "        for i in range (nNeurons):\n",
    "            self.neurons.append(Neuron(nInputs))\n",
    "\n",
    "            \n",
    "    def calcula(self, inputs):\n",
    "        output = []\n",
    "        for i in range (self.nNeurons):\n",
    "            output.append(self.neurons[i].calcula(inputs))\n",
    "            #print(self.neurons[i].calcula(inputs))\n",
    "            \n",
    "        return output            "
   ]
  },
  {
   "cell_type": "markdown",
   "metadata": {},
   "source": [
    "### Class NeuralNetwork\n",
    "\n",
    "Aquesta classe preten definir la xarxa neuronal sencera sobre la que treballarem\n",
    "\n",
    "*Atributs:*\n",
    "- nLayers: numero de capes que te la xarxa\n",
    "- nInputs: numero d'entrades que te la xarxa\n",
    "- nOuputs: numero de sortides que te la xarxa\n",
    "\n",
    "\n",
    "*Funcions:*\n",
    "- calcula: no se que fa jaja\n"
   ]
  },
  {
   "cell_type": "code",
   "execution_count": 5,
   "metadata": {},
   "outputs": [],
   "source": [
    "class NeuralNetwork:\n",
    "\n",
    "    \n",
    "    def __init__(self, nInputs, nLayers, neuronsInLayer):\n",
    "        \n",
    "        #Atributs\n",
    "        self.nLayers = 0\n",
    "        self.nInputs = 0\n",
    "        self.neuronsInLayer = []\n",
    "        self.layers = []\n",
    "\n",
    "        self.nInputs = nInputs\n",
    "        self.nLayers = nLayers\n",
    "        self.neuronsInLayer = neuronsInLayer\n",
    "        \n",
    "        for i in range (self.nLayers):\n",
    "             #crear layers\n",
    "            if (i == 0) :\n",
    "                self.layers.append(Layer(self.neuronsInLayer[i], self.nInputs))\n",
    "            else:\n",
    "                self.layers.append(Layer(self.neuronsInLayer[i], self.neuronsInLayer[i-1]))\n",
    "        \n",
    "        \n",
    "    def calcula(self, inputs):\n",
    "        \n",
    "        for i in range (self.nLayers):\n",
    "            if (i == 0) :\n",
    "                aux = self.layers[i].calcula(inputs)\n",
    "            else: \n",
    "                aux = self.layers[i].calcula(aux)\n",
    "        return aux"
   ]
  },
  {
   "cell_type": "code",
   "execution_count": 6,
   "metadata": {},
   "outputs": [],
   "source": [
    "def logicFunction(code):\n",
    "    return (code[1]&(not code[2]))|(code[0]&code[1])"
   ]
  },
  {
   "cell_type": "code",
   "execution_count": 7,
   "metadata": {},
   "outputs": [],
   "source": [
    "def calculaError(result, code):\n",
    "    \n",
    "    error = logicFunction(code) - result[0];\n",
    "    \n",
    "    return error"
   ]
  },
  {
   "cell_type": "code",
   "execution_count": 8,
   "metadata": {},
   "outputs": [],
   "source": [
    "def evaluate(nn):\n",
    "    \n",
    "    totalErrors = []\n",
    "    for i in range (nIndividuals) :\n",
    "        error = 0\n",
    "        for j in range (len(inputCode) - 1):\n",
    "            result = nn[i].calcula(inputCode[j])\n",
    "            error += calculaError(result, inputCode[j])\n",
    "        totalErrors.append(error)\n",
    "    \n",
    "    return totalErrors"
   ]
  },
  {
   "cell_type": "code",
   "execution_count": 9,
   "metadata": {},
   "outputs": [],
   "source": [
    "def getParents(totalErrors, nn):\n",
    "    mappedList = list(map(abs,totalErrors))\n",
    "    inds = np.argsort(mappedList)\n",
    "\n",
    "    parent1 = nn[inds[0]]\n",
    "    parent2 = nn[inds[1]]\n",
    "    \n",
    "    return parent1, parent2"
   ]
  },
  {
   "cell_type": "code",
   "execution_count": 10,
   "metadata": {},
   "outputs": [],
   "source": [
    "def generateOffspring(parent1, parent2):\n",
    "    \n",
    "    offspring = []\n",
    "    \n",
    "    for i in range (nIndividuals - 2):\n",
    "        offspring.append(NeuralNetwork(nInputs, nLayers, neuronsInLayer))\n",
    "    \n",
    "    offspring.append(parent1)\n",
    "    offspring.append(parent2)\n",
    "    \n",
    "    for i in range(nIndividuals - 2):\n",
    "        for j in range(nLayers):\n",
    "            for m in range(offspring[i].neuronsInLayer[j]):\n",
    "                \n",
    "                #BIAS\n",
    "                p = random.uniform(0,1)\n",
    "                if p <= 0.5:\n",
    "                    #parent1\n",
    "                    offspring[i].layers[j].neurons[m].bias = parent1.layers[j].neurons[m].bias\n",
    "                if p > 0.5:\n",
    "                    #parent2\n",
    "                    offspring[i].layers[j].neurons[m].bias = parent2.layers[j].neurons[m].bias\n",
    "                  \n",
    "                #WEIGHTS\n",
    "                for w in range(len(offspring[i].layers[j].neurons[m].weight)):\n",
    "                    p = random.uniform(0,1)\n",
    "                    if p <= 0.5:\n",
    "                        #parent1\n",
    "                        offspring[i].layers[j].neurons[m].weight[w] = parent1.layers[j].neurons[m].weight[w]\n",
    "                    if p > 0.5:\n",
    "                        #parent2\n",
    "                        offspring[i].layers[j].neurons[m].weight[w] = parent2.layers[j].neurons[m].weight[w]\n",
    "                #MUTATION\n",
    "                p = random.uniform(0,1)\n",
    "                if p <= 0.1:\n",
    "                    #mutation bias\n",
    "                    value = random.uniform(-0.1,+0.1)\n",
    "                    offspring[i].layers[j].neurons[m].bias += value\n",
    "                \n",
    "                    #mutation weight\n",
    "                    for w in range(len(offspring[i].layers[j].neurons[m].weight)):\n",
    "                        value = random.uniform(-0.1,+0.1)\n",
    "                        offspring[i].layers[j].neurons[m].weight[w] += value\n",
    "                       \n",
    "    return offspring\n",
    "          "
   ]
  },
  {
   "cell_type": "markdown",
   "metadata": {},
   "source": [
    "## Ask for data"
   ]
  },
  {
   "cell_type": "code",
   "execution_count": 12,
   "metadata": {},
   "outputs": [
    {
     "name": "stdout",
     "output_type": "stream",
     "text": [
      "How many inidividuals per generation do you want? 300\n",
      "How many generations do you want to try? 80\n",
      "How many inputs do you want in your Neural Network? 3\n",
      "How many layers do you want in your Neural Network? 2\n",
      "How many neurons do you want in layer number 1? 7\n",
      "How many neurons do you want in layer number 2? 8\n"
     ]
    }
   ],
   "source": [
    "nIndividuals = int(input(\"How many inidividuals per generation do you want? \"))\n",
    "nGenerations = int(input(\"How many generations do you want to try? \"))\n",
    "\n",
    "\n",
    "nInputs = int(input(\"How many inputs do you want in your Neural Network? \"))\n",
    "nLayers = int(input(\"How many layers do you want in your Neural Network? \"))\n",
    "neuronsInLayer = []\n",
    "\n",
    "for i in range (nLayers):\n",
    "\n",
    "    aux = int(input(\"How many neurons do you want in layer number \"+ str(i+1)+\"? \"))\n",
    "    neuronsInLayer.append(aux)\n",
    "\n",
    "nLayers += 1\n",
    "neuronsInLayer.append(1)\n",
    "\n",
    "inputCode = [[0,0,0], [0,0,1], [0,1,0], [0,1,1], [1,0,0], [1,0,1], [1,1,0], [1,1,1]]"
   ]
  },
  {
   "cell_type": "markdown",
   "metadata": {},
   "source": [
    "## Generate X number of Neural Networks"
   ]
  },
  {
   "cell_type": "code",
   "execution_count": null,
   "metadata": {},
   "outputs": [],
   "source": [
    "neuralNetworks = []\n",
    "\n",
    "for i in range (nIndividuals):\n",
    "    neuralNetworks.append(NeuralNetwork(nInputs, nLayers, neuronsInLayer))\n",
    "    \n",
    "totalErrors = evaluate(neuralNetworks)\n",
    "\n",
    "parent1, parent2 = getParents(totalErrors, neuralNetworks)\n",
    "\n",
    "for i in range (nGenerations - 1):\n",
    "    offspring = generateOffspring(parent1, parent2)\n",
    "    totalErrors = evaluate(offspring)\n",
    "\n",
    "    parent1, parent2 = getParents(totalErrors, offspring)\n"
   ]
  },
  {
   "cell_type": "code",
   "execution_count": null,
   "metadata": {},
   "outputs": [],
   "source": [
    "min(totalErrors)"
   ]
  },
  {
   "cell_type": "code",
   "execution_count": null,
   "metadata": {},
   "outputs": [],
   "source": [
    "nn1, nn2 = getParents(totalErrors, offspring)"
   ]
  },
  {
   "cell_type": "code",
   "execution_count": null,
   "metadata": {},
   "outputs": [],
   "source": [
    "nn1.calcula([0,0,1])"
   ]
  },
  {
   "cell_type": "code",
   "execution_count": null,
   "metadata": {},
   "outputs": [],
   "source": []
  }
 ],
 "metadata": {
  "kernelspec": {
   "display_name": "Python 3",
   "language": "python",
   "name": "python3"
  },
  "language_info": {
   "codemirror_mode": {
    "name": "ipython",
    "version": 3
   },
   "file_extension": ".py",
   "mimetype": "text/x-python",
   "name": "python",
   "nbconvert_exporter": "python",
   "pygments_lexer": "ipython3",
   "version": "3.7.3"
  }
 },
 "nbformat": 4,
 "nbformat_minor": 2
}
