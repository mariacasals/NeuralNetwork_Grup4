{
 "cells": [
  {
   "cell_type": "markdown",
   "metadata": {},
   "source": [
    "**NEURAL NETWORKS**\n",
    "\n",
    "GRUP 4: Arnau Alabau, Sergi Ubach, María Casals\n"
   ]
  },
  {
   "cell_type": "code",
   "execution_count": 14,
   "metadata": {},
   "outputs": [],
   "source": [
    "# Import matplotlib, numpy and math\n",
    "import matplotlib.pyplot as plt\n",
    "import numpy as np\n",
    "import math\n",
    "import random"
   ]
  },
  {
   "cell_type": "code",
   "execution_count": 2,
   "metadata": {},
   "outputs": [],
   "source": [
    "#Codi per treure la sigmoide\n",
    "\n",
    "def sigmoide(aux):\n",
    "    x = np.linspace(-100, 100, 200)\n",
    "    z = aux/(1 + np.exp(-(aux - 0)))\n",
    "\n",
    "    #plt.plot(x, z)\n",
    "    #plt.xlabel(\"x\")\n",
    "    #plt.ylabel(\"Sigmoid(X)\")\n",
    "\n",
    "    #plt.show()\n",
    "    print(\"Z\")\n",
    "    print(z)\n",
    "    return z"
   ]
  },
  {
   "cell_type": "markdown",
   "metadata": {},
   "source": [
    "### Class Neuron\n",
    "\n",
    "Aquesta classe preten definir una neurona de la xarxa neuronal\n",
    "\n",
    "*Atributs:*\n",
    "- nInputs: numero d'entrades que te la neurona\n",
    "- output: valor de sortida\n",
    "- bias: \"offset\" necessari\n",
    "- weight: array ambs els pesos que determinen cada entrada\n",
    "\n",
    "\n",
    "*Funcions:*\n",
    "- calcula: ha de fer el calcul (inputs*weight + bias ) *sigmoide \n",
    "    - DUBTE: No se com es la operacio en concret\n"
   ]
  },
  {
   "cell_type": "code",
   "execution_count": 3,
   "metadata": {},
   "outputs": [],
   "source": [
    "class Neuron:\n",
    "    #Atributs\n",
    "    nInputs = 0\n",
    "    output = 0\n",
    "    #nOutput? o sempre es un output?\n",
    "    bias = 0\n",
    "    weight = []\n",
    "    \n",
    "    def __init__(self, nInputs):\n",
    "            self.nInputs = nInputs\n",
    "            #generar weight i bias amb genetics\n",
    "            generateRandomWeights()\n",
    "            generateRandomBias()\n",
    "            \n",
    "            \n",
    "    def calcula(self, inputs):\n",
    "        aux = inputs@self.weight + self.bias\n",
    "        output = sigmoide(aux)\n",
    "        \n",
    "        return output\n",
    "    \n",
    "    def generateRandomBias():\n",
    "        \n",
    "        self.bias = random.uniform(-self.nInputs, self.nInputs)\n",
    "    \n",
    "    \n",
    "    def generateRandomWeights():\n",
    "        \n",
    "        for i in range (nInputs):\n",
    "            self.weight.append(random.random())\n",
    "            "
   ]
  },
  {
   "cell_type": "markdown",
   "metadata": {},
   "source": [
    "### Class Layer\n",
    "\n",
    "Aquesta classe preten definir una capa de la xarxa neuronal\n",
    "\n",
    "*Atributs:*\n",
    "- nNeurons: numero de neurones que te la capa, coincideix amb el numero de outputs\n",
    "- nInputs: numero d'entrades que te la capa\n",
    "\n",
    "\n",
    "*Funcions:*\n",
    "- calcula: ha de recorrer cada una de les neurones, passarli el vector d'entrada i obtenir la sortida de cada una\n"
   ]
  },
  {
   "cell_type": "code",
   "execution_count": 4,
   "metadata": {},
   "outputs": [],
   "source": [
    "class Layer:\n",
    "    #Atributs\n",
    "    nNeurons = 0\n",
    "    nInputs = 0 #num de neurones de la capa anterior, si es la 1a, es numInputs\n",
    "    neurons = []\n",
    "    #el num de neurones ve determinat pel numero de sortides, nOuputs = nNeurons\n",
    "    \n",
    "    def __init__(self, nNeurons, nInputs):\n",
    "        self.nInputs = nInputs\n",
    "        self.nNeurons = nNeurons\n",
    "        for i in range (nNeurons):\n",
    "            self.neurons.append(Neuron(nInputs))\n",
    "\n",
    "            \n",
    "    def calcula(self, inputs):\n",
    "        output = []\n",
    "        for i in range (self.nNeurons):\n",
    "            output.append(self.neurons[i].calcula(inputs))\n",
    "            print(self.neurons[i].calcula(inputs))\n",
    "            \n",
    "        return output            "
   ]
  },
  {
   "cell_type": "markdown",
   "metadata": {},
   "source": [
    "### Class NeuralNetwork\n",
    "\n",
    "Aquesta classe preten definir la xarxa neuronal sencera sobre la que treballarem\n",
    "\n",
    "*Atributs:*\n",
    "- nLayers: numero de capes que te la xarxa\n",
    "- nInputs: numero d'entrades que te la xarxa\n",
    "- nOuputs: numero de sortides que te la xarxa\n",
    "\n",
    "\n",
    "*Funcions:*\n",
    "- calcula: no se que fa jaja\n"
   ]
  },
  {
   "cell_type": "code",
   "execution_count": 11,
   "metadata": {},
   "outputs": [],
   "source": [
    "class NeuralNetwork:\n",
    "    #Atributs\n",
    "    #DUBTE: no se quins atributs ha de tenir en concret\n",
    "    nLayers = 0\n",
    "    nInputs = 0\n",
    "    neuronsInLayer = []\n",
    "    layers = []\n",
    "    \n",
    "    def __init__(self, nInputs, nLayers, neuronsInLayer):\n",
    "        self.nInputs = nInputs\n",
    "        self.nLayers = nLayers\n",
    "        self.neuronsInLayer = neuronsInLayer\n",
    "        \n",
    "        for i in range (self.nLayers):\n",
    "             #crear layers\n",
    "            if (i == 0) :\n",
    "                self.layers.append(Layer(aux, self.nInputs))\n",
    "            else:\n",
    "                self.layers.append(Layer(aux, self.neuronsInLayer[i-1]))\n",
    "        \n",
    "        \n",
    "    def calcula(self, inputs):\n",
    "        for i in range (self.nLayers):\n",
    "            if (i == 0) :\n",
    "                aux = self.layers[i].calcula(inputs)\n",
    "            else: \n",
    "                aux = self.layers[i].calcula(aux)\n",
    "        return aux"
   ]
  },
  {
   "cell_type": "code",
   "execution_count": 6,
   "metadata": {},
   "outputs": [],
   "source": [
    "def logicFunction(code):\n",
    "    return (code[1]&(not code[2]))|(code[0]&code[1])"
   ]
  },
  {
   "cell_type": "code",
   "execution_count": 7,
   "metadata": {},
   "outputs": [],
   "source": [
    "def calculaError(result, code):\n",
    "    \n",
    "    error = logicFunction(code) - result;\n",
    "    \n",
    "    return error"
   ]
  },
  {
   "cell_type": "markdown",
   "metadata": {},
   "source": [
    "## Ask for data"
   ]
  },
  {
   "cell_type": "code",
   "execution_count": 8,
   "metadata": {},
   "outputs": [
    {
     "name": "stdout",
     "output_type": "stream",
     "text": [
      "How many inidividuals per generation do you want? 10\n",
      "How many generations do you want to try? 4\n",
      "How many inputs do you want in your Neural Network? 3\n",
      "How many layers do you want in your Neural Network? 2\n",
      "How many neurons do you want in layer number x? 4\n",
      "How many neurons do you want in layer number x? 5\n"
     ]
    }
   ],
   "source": [
    "nIndividuals = int(input(\"How many inidividuals per generation do you want? \"))\n",
    "nGenerations = int(input(\"How many generations do you want to try? \"))\n",
    "\n",
    "\n",
    "nInputs = int(input(\"How many inputs do you want in your Neural Network? \"))\n",
    "nLayers = int(input(\"How many layers do you want in your Neural Network? \"))\n",
    "neuronsInLayer = []\n",
    "\n",
    "for i in range (nLayers):\n",
    "\n",
    "    aux = int(input(\"How many neurons do you want in layer number x? \"))\n",
    "    neuronsInLayer.append(aux)\n",
    "\n",
    "nLayers += 1\n",
    "neuronsInLayer.append(1)"
   ]
  },
  {
   "cell_type": "markdown",
   "metadata": {},
   "source": [
    "## Generate X number of Neural Networks"
   ]
  },
  {
   "cell_type": "code",
   "execution_count": 12,
   "metadata": {},
   "outputs": [],
   "source": [
    "neuralNetworks = []\n",
    "for i in range (nIndividuals):\n",
    "    neuralNetworks.append(NeuralNetwork(nInputs, nLayers, neuronsInLayer))"
   ]
  },
  {
   "cell_type": "code",
   "execution_count": 13,
   "metadata": {},
   "outputs": [
    {
     "ename": "ValueError",
     "evalue": "matmul: Input operand 1 has a mismatch in its core dimension 0, with gufunc signature (n?,k),(k,m?)->(n?,m?) (size 5 is different from 3)",
     "output_type": "error",
     "traceback": [
      "\u001b[1;31m---------------------------------------------------------------------------\u001b[0m",
      "\u001b[1;31mValueError\u001b[0m                                Traceback (most recent call last)",
      "\u001b[1;32m<ipython-input-13-99ef6c6e9e91>\u001b[0m in \u001b[0;36m<module>\u001b[1;34m\u001b[0m\n\u001b[0;32m      4\u001b[0m     \u001b[0merror\u001b[0m \u001b[1;33m=\u001b[0m \u001b[1;36m0\u001b[0m\u001b[1;33m\u001b[0m\u001b[1;33m\u001b[0m\u001b[0m\n\u001b[0;32m      5\u001b[0m     \u001b[1;32mfor\u001b[0m \u001b[0mj\u001b[0m \u001b[1;32min\u001b[0m \u001b[0mrange\u001b[0m \u001b[1;33m(\u001b[0m\u001b[0mlen\u001b[0m\u001b[1;33m(\u001b[0m\u001b[0minputCode\u001b[0m\u001b[1;33m)\u001b[0m \u001b[1;33m-\u001b[0m \u001b[1;36m1\u001b[0m\u001b[1;33m)\u001b[0m\u001b[1;33m:\u001b[0m\u001b[1;33m\u001b[0m\u001b[1;33m\u001b[0m\u001b[0m\n\u001b[1;32m----> 6\u001b[1;33m         \u001b[0mresult\u001b[0m \u001b[1;33m=\u001b[0m \u001b[0mneuralNetworks\u001b[0m\u001b[1;33m[\u001b[0m\u001b[0mi\u001b[0m\u001b[1;33m]\u001b[0m\u001b[1;33m.\u001b[0m\u001b[0mcalcula\u001b[0m\u001b[1;33m(\u001b[0m\u001b[0minputCode\u001b[0m\u001b[1;33m[\u001b[0m\u001b[0mj\u001b[0m\u001b[1;33m]\u001b[0m\u001b[1;33m)\u001b[0m\u001b[1;33m\u001b[0m\u001b[1;33m\u001b[0m\u001b[0m\n\u001b[0m\u001b[0;32m      7\u001b[0m         \u001b[0merror\u001b[0m \u001b[1;33m+=\u001b[0m \u001b[0mcalculaError\u001b[0m\u001b[1;33m(\u001b[0m\u001b[0mresult\u001b[0m\u001b[1;33m,\u001b[0m \u001b[0minputCode\u001b[0m\u001b[1;33m[\u001b[0m\u001b[0mj\u001b[0m\u001b[1;33m]\u001b[0m\u001b[1;33m)\u001b[0m\u001b[1;33m\u001b[0m\u001b[1;33m\u001b[0m\u001b[0m\n\u001b[0;32m      8\u001b[0m     \u001b[0mtotalErrors\u001b[0m\u001b[1;33m.\u001b[0m\u001b[0mappend\u001b[0m\u001b[1;33m(\u001b[0m\u001b[0merror\u001b[0m\u001b[1;33m)\u001b[0m\u001b[1;33m\u001b[0m\u001b[1;33m\u001b[0m\u001b[0m\n",
      "\u001b[1;32m<ipython-input-11-919dec7ddef4>\u001b[0m in \u001b[0;36mcalcula\u001b[1;34m(self, inputs)\u001b[0m\n\u001b[0;32m     23\u001b[0m         \u001b[1;32mfor\u001b[0m \u001b[0mi\u001b[0m \u001b[1;32min\u001b[0m \u001b[0mrange\u001b[0m \u001b[1;33m(\u001b[0m\u001b[0mself\u001b[0m\u001b[1;33m.\u001b[0m\u001b[0mnLayers\u001b[0m\u001b[1;33m)\u001b[0m\u001b[1;33m:\u001b[0m\u001b[1;33m\u001b[0m\u001b[1;33m\u001b[0m\u001b[0m\n\u001b[0;32m     24\u001b[0m             \u001b[1;32mif\u001b[0m \u001b[1;33m(\u001b[0m\u001b[0mi\u001b[0m \u001b[1;33m==\u001b[0m \u001b[1;36m0\u001b[0m\u001b[1;33m)\u001b[0m \u001b[1;33m:\u001b[0m\u001b[1;33m\u001b[0m\u001b[1;33m\u001b[0m\u001b[0m\n\u001b[1;32m---> 25\u001b[1;33m                 \u001b[0maux\u001b[0m \u001b[1;33m=\u001b[0m \u001b[0mself\u001b[0m\u001b[1;33m.\u001b[0m\u001b[0mlayers\u001b[0m\u001b[1;33m[\u001b[0m\u001b[0mi\u001b[0m\u001b[1;33m]\u001b[0m\u001b[1;33m.\u001b[0m\u001b[0mcalcula\u001b[0m\u001b[1;33m(\u001b[0m\u001b[0minputs\u001b[0m\u001b[1;33m)\u001b[0m\u001b[1;33m\u001b[0m\u001b[1;33m\u001b[0m\u001b[0m\n\u001b[0m\u001b[0;32m     26\u001b[0m             \u001b[1;32melse\u001b[0m\u001b[1;33m:\u001b[0m\u001b[1;33m\u001b[0m\u001b[1;33m\u001b[0m\u001b[0m\n\u001b[0;32m     27\u001b[0m                 \u001b[0maux\u001b[0m \u001b[1;33m=\u001b[0m \u001b[0mself\u001b[0m\u001b[1;33m.\u001b[0m\u001b[0mlayers\u001b[0m\u001b[1;33m[\u001b[0m\u001b[0mi\u001b[0m\u001b[1;33m]\u001b[0m\u001b[1;33m.\u001b[0m\u001b[0mcalcula\u001b[0m\u001b[1;33m(\u001b[0m\u001b[0maux\u001b[0m\u001b[1;33m)\u001b[0m\u001b[1;33m\u001b[0m\u001b[1;33m\u001b[0m\u001b[0m\n",
      "\u001b[1;32m<ipython-input-4-0cd7f5627c00>\u001b[0m in \u001b[0;36mcalcula\u001b[1;34m(self, inputs)\u001b[0m\n\u001b[0;32m     16\u001b[0m         \u001b[0moutput\u001b[0m \u001b[1;33m=\u001b[0m \u001b[1;33m[\u001b[0m\u001b[1;33m]\u001b[0m\u001b[1;33m\u001b[0m\u001b[1;33m\u001b[0m\u001b[0m\n\u001b[0;32m     17\u001b[0m         \u001b[1;32mfor\u001b[0m \u001b[0mi\u001b[0m \u001b[1;32min\u001b[0m \u001b[0mrange\u001b[0m \u001b[1;33m(\u001b[0m\u001b[0mself\u001b[0m\u001b[1;33m.\u001b[0m\u001b[0mnNeurons\u001b[0m\u001b[1;33m)\u001b[0m\u001b[1;33m:\u001b[0m\u001b[1;33m\u001b[0m\u001b[1;33m\u001b[0m\u001b[0m\n\u001b[1;32m---> 18\u001b[1;33m             \u001b[0moutput\u001b[0m\u001b[1;33m.\u001b[0m\u001b[0mappend\u001b[0m\u001b[1;33m(\u001b[0m\u001b[0mself\u001b[0m\u001b[1;33m.\u001b[0m\u001b[0mneurons\u001b[0m\u001b[1;33m[\u001b[0m\u001b[0mi\u001b[0m\u001b[1;33m]\u001b[0m\u001b[1;33m.\u001b[0m\u001b[0mcalcula\u001b[0m\u001b[1;33m(\u001b[0m\u001b[0minputs\u001b[0m\u001b[1;33m)\u001b[0m\u001b[1;33m)\u001b[0m\u001b[1;33m\u001b[0m\u001b[1;33m\u001b[0m\u001b[0m\n\u001b[0m\u001b[0;32m     19\u001b[0m             \u001b[0mprint\u001b[0m\u001b[1;33m(\u001b[0m\u001b[0mself\u001b[0m\u001b[1;33m.\u001b[0m\u001b[0mneurons\u001b[0m\u001b[1;33m[\u001b[0m\u001b[0mi\u001b[0m\u001b[1;33m]\u001b[0m\u001b[1;33m.\u001b[0m\u001b[0mcalcula\u001b[0m\u001b[1;33m(\u001b[0m\u001b[0minputs\u001b[0m\u001b[1;33m)\u001b[0m\u001b[1;33m)\u001b[0m\u001b[1;33m\u001b[0m\u001b[1;33m\u001b[0m\u001b[0m\n\u001b[0;32m     20\u001b[0m \u001b[1;33m\u001b[0m\u001b[0m\n",
      "\u001b[1;32m<ipython-input-3-450ca909fa3e>\u001b[0m in \u001b[0;36mcalcula\u001b[1;34m(self, inputs)\u001b[0m\n\u001b[0;32m     17\u001b[0m \u001b[1;33m\u001b[0m\u001b[0m\n\u001b[0;32m     18\u001b[0m     \u001b[1;32mdef\u001b[0m \u001b[0mcalcula\u001b[0m\u001b[1;33m(\u001b[0m\u001b[0mself\u001b[0m\u001b[1;33m,\u001b[0m \u001b[0minputs\u001b[0m\u001b[1;33m)\u001b[0m\u001b[1;33m:\u001b[0m\u001b[1;33m\u001b[0m\u001b[1;33m\u001b[0m\u001b[0m\n\u001b[1;32m---> 19\u001b[1;33m         \u001b[0maux\u001b[0m \u001b[1;33m=\u001b[0m \u001b[0minputs\u001b[0m\u001b[1;33m@\u001b[0m\u001b[0mself\u001b[0m\u001b[1;33m.\u001b[0m\u001b[0mweight\u001b[0m \u001b[1;33m+\u001b[0m \u001b[0mself\u001b[0m\u001b[1;33m.\u001b[0m\u001b[0mbias\u001b[0m\u001b[1;33m\u001b[0m\u001b[1;33m\u001b[0m\u001b[0m\n\u001b[0m\u001b[0;32m     20\u001b[0m         \u001b[0moutput\u001b[0m \u001b[1;33m=\u001b[0m \u001b[0msigmoide\u001b[0m\u001b[1;33m(\u001b[0m\u001b[0maux\u001b[0m\u001b[1;33m)\u001b[0m\u001b[1;33m\u001b[0m\u001b[1;33m\u001b[0m\u001b[0m\n\u001b[0;32m     21\u001b[0m \u001b[1;33m\u001b[0m\u001b[0m\n",
      "\u001b[1;31mValueError\u001b[0m: matmul: Input operand 1 has a mismatch in its core dimension 0, with gufunc signature (n?,k),(k,m?)->(n?,m?) (size 5 is different from 3)"
     ]
    }
   ],
   "source": [
    "inputCode = [[0,0,0], [0,0,1], [0,1,0], [0,1,1], [1,0,0], [1,0,1], [1,1,0], [1,1,1]]\n",
    "totalErrors = []\n",
    "for i in range (nIndividuals) :\n",
    "    error = 0\n",
    "    for j in range (len(inputCode) - 1):\n",
    "        result = neuralNetworks[i].calcula(inputCode[j])\n",
    "        error += calculaError(result, inputCode[j])\n",
    "    totalErrors.append(error)\n",
    "\n",
    "\n"
   ]
  },
  {
   "cell_type": "code",
   "execution_count": null,
   "metadata": {},
   "outputs": [],
   "source": [
    "neuralNetworks[0].calcula(inputCode[0])\n"
   ]
  },
  {
   "cell_type": "code",
   "execution_count": null,
   "metadata": {},
   "outputs": [],
   "source": [
    "totalErrors"
   ]
  }
 ],
 "metadata": {
  "kernelspec": {
   "display_name": "Python 3",
   "language": "python",
   "name": "python3"
  },
  "language_info": {
   "codemirror_mode": {
    "name": "ipython",
    "version": 3
   },
   "file_extension": ".py",
   "mimetype": "text/x-python",
   "name": "python",
   "nbconvert_exporter": "python",
   "pygments_lexer": "ipython3",
   "version": "3.7.4"
  }
 },
 "nbformat": 4,
 "nbformat_minor": 2
}
