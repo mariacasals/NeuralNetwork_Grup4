{
 "cells": [
  {
   "cell_type": "markdown",
   "metadata": {},
   "source": [
    "**NEURAL NETWORKS**\n",
    "\n",
    "GRUP 4: Arnau Alabau, Sergi Ubach, María Casals\n"
   ]
  },
  {
   "cell_type": "code",
   "execution_count": 1,
   "metadata": {},
   "outputs": [],
   "source": [
    "# Import matplotlib, numpy and math\n",
    "import matplotlib.pyplot as plt\n",
    "import numpy as np\n",
    "import math"
   ]
  },
  {
   "cell_type": "code",
   "execution_count": 2,
   "metadata": {},
   "outputs": [],
   "source": [
    "#Codi per treure la sigmoide\n",
    "\n",
    "def sigmoide(aux):\n",
    "    x = np.linspace(-100, 100, 200)\n",
    "    z = aux/(1 + np.exp(-(aux - 0)))\n",
    "\n",
    "    #plt.plot(x, z)\n",
    "    #plt.xlabel(\"x\")\n",
    "    #plt.ylabel(\"Sigmoid(X)\")\n",
    "\n",
    "    #plt.show()\n",
    "    print(\"Z\")\n",
    "    print(z)\n",
    "    return z"
   ]
  },
  {
   "cell_type": "markdown",
   "metadata": {},
   "source": [
    "### Class Neuron\n",
    "\n",
    "Aquesta classe preten definir una neurona de la xarxa neuronal\n",
    "\n",
    "*Atributs:*\n",
    "- nInputs: numero d'entrades que te la neurona\n",
    "- output: valor de sortida\n",
    "- bias: \"offset\" necessari\n",
    "- weight: array ambs els pesos que determinen cada entrada\n",
    "\n",
    "\n",
    "*Funcions:*\n",
    "- calcula: ha de fer el calcul (inputs*weight + bias ) *sigmoide \n",
    "    - DUBTE: No se com es la operacio en concret\n"
   ]
  },
  {
   "cell_type": "code",
   "execution_count": 3,
   "metadata": {},
   "outputs": [],
   "source": [
    "class Neuron:\n",
    "    #Atributs\n",
    "    nInputs = 0\n",
    "    output = 0\n",
    "    #nOutput? o sempre es un output?\n",
    "    bias = 0\n",
    "    weight = []\n",
    "    \n",
    "    def __init__(self, nInputs):\n",
    "            self.nInputs = nInputs\n",
    "            #generar weight i bias amb genetics\n",
    "            self.weight = []\n",
    "            self.bias = 0\n",
    "            \n",
    "            #per fer proves\n",
    "            self.weight = np.array([0.2, 0.1, 0.3, 0.4, 0])\n",
    "            \n",
    "    def calcula(self, inputs):\n",
    "        aux = inputs@self.weight + self.bias\n",
    "        output = sigmoide(aux)\n",
    "        \n",
    "        return output"
   ]
  },
  {
   "cell_type": "markdown",
   "metadata": {},
   "source": [
    "### Class Layer\n",
    "\n",
    "Aquesta classe preten definir una capa de la xarxa neuronal\n",
    "\n",
    "*Atributs:*\n",
    "- nNeurons: numero de neurones que te la capa, coincideix amb el numero de outputs\n",
    "- nInputs: numero d'entrades que te la capa\n",
    "\n",
    "\n",
    "*Funcions:*\n",
    "- calcula: ha de recorrer cada una de les neurones, passarli el vector d'entrada i obtenir la sortida de cada una\n"
   ]
  },
  {
   "cell_type": "code",
   "execution_count": 4,
   "metadata": {},
   "outputs": [],
   "source": [
    "class Layer:\n",
    "    #Atributs\n",
    "    nNeurons = 5\n",
    "    nInputs = 0\n",
    "    neurons = [Neuron(3)]\n",
    "    #nOutputs = 0\n",
    "    #el num de neurones ve determinat pel numero de sortides, entenc que nOuputs = nNeurons\n",
    "    \n",
    "    def __init__(self, nNeurons, nInputs):\n",
    "        self.nInputs = nInputs\n",
    "        self.nNeurons = nNeurons\n",
    "        #DUBTE: com s'inicialitzen les neurones?\n",
    "        #self.neurons = [Neuron(3)]\n",
    "    \n",
    "    def calcula(self, inputs):\n",
    "        for i in range (self.nNeurons):\n",
    "            print(self.neurons[i].calcula(inputs))"
   ]
  },
  {
   "cell_type": "markdown",
   "metadata": {},
   "source": [
    "### Class NeuralNetwork\n",
    "\n",
    "Aquesta classe preten definir la xarxa neuronal sencera sobre la que treballarem\n",
    "\n",
    "*Atributs:*\n",
    "- nLayers: numero de capes que te la xarxa\n",
    "- nInputs: numero d'entrades que te la xarxa\n",
    "- nOuputs: numero de sortides que te la xarxa\n",
    "\n",
    "\n",
    "*Funcions:*\n",
    "- calcula: no se que fa jaja\n"
   ]
  },
  {
   "cell_type": "code",
   "execution_count": 5,
   "metadata": {},
   "outputs": [],
   "source": [
    "class NeuralNetwork:\n",
    "    #Atributs\n",
    "    #DUBTE: no se quins atributs ha de tenir en concret\n",
    "    nLayers = 0\n",
    "    nInputs = 0\n",
    "    nOutputs = 1\n",
    "    \n",
    "    def __init__(self, nLayers, nInputs, nOuputs): \n",
    "        self.nLayers = nLayers\n",
    "        self.nInputs = nInputs\n",
    "        self.nOuputs = nOuputs\n",
    "\n",
    "        \n",
    "    def calcula(self, inputs):\n",
    "        print(\"calcula nn\")\n",
    "        #No tinc massa clar que ha de fer aquesta funcio"
   ]
  },
  {
   "cell_type": "code",
   "execution_count": 6,
   "metadata": {},
   "outputs": [
    {
     "name": "stdout",
     "output_type": "stream",
     "text": [
      "Z\n",
      "0.052497918747894\n",
      "Z\n",
      "0.052497918747894\n",
      "0.052497918747894\n"
     ]
    }
   ],
   "source": [
    "neuron = Neuron(5)\n",
    "inputs = np.array([0, 1, 0, 0, 0])\n",
    "neuron.calcula(inputs)\n",
    "\n",
    "#La sortida d'una layer es l'entrada de la seguent\n",
    "layer = Layer(1, 1)\n",
    "layer.calcula(inputs)"
   ]
  },
  {
   "cell_type": "code",
   "execution_count": null,
   "metadata": {},
   "outputs": [],
   "source": []
  },
  {
   "cell_type": "code",
   "execution_count": null,
   "metadata": {},
   "outputs": [],
   "source": []
  }
 ],
 "metadata": {
  "kernelspec": {
   "display_name": "Python 3",
   "language": "python",
   "name": "python3"
  },
  "language_info": {
   "codemirror_mode": {
    "name": "ipython",
    "version": 3
   },
   "file_extension": ".py",
   "mimetype": "text/x-python",
   "name": "python",
   "nbconvert_exporter": "python",
   "pygments_lexer": "ipython3",
   "version": "3.7.4"
  }
 },
 "nbformat": 4,
 "nbformat_minor": 2
}
